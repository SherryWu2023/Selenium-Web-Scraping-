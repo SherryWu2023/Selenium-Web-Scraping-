{
 "cells": [
  {
   "cell_type": "code",
   "execution_count": 1,
   "id": "b5319dfd",
   "metadata": {},
   "outputs": [
    {
     "name": "stdout",
     "output_type": "stream",
     "text": [
      "Requirement already satisfied: bs4 in c:\\users\\syuan\\anaconda3\\lib\\site-packages (0.0.2)\n",
      "Requirement already satisfied: beautifulsoup4 in c:\\users\\syuan\\anaconda3\\lib\\site-packages (from bs4) (4.12.2)\n",
      "Requirement already satisfied: soupsieve>1.2 in c:\\users\\syuan\\anaconda3\\lib\\site-packages (from beautifulsoup4->bs4) (2.4)\n",
      "Note: you may need to restart the kernel to use updated packages.\n"
     ]
    }
   ],
   "source": [
    "pip install bs4"
   ]
  },
  {
   "cell_type": "code",
   "execution_count": 2,
   "id": "dce8108b",
   "metadata": {},
   "outputs": [
    {
     "name": "stdout",
     "output_type": "stream",
     "text": [
      "Requirement already satisfied: requests in c:\\users\\syuan\\anaconda3\\lib\\site-packages (2.31.0)\n",
      "Requirement already satisfied: charset-normalizer<4,>=2 in c:\\users\\syuan\\anaconda3\\lib\\site-packages (from requests) (2.0.4)\n",
      "Requirement already satisfied: idna<4,>=2.5 in c:\\users\\syuan\\anaconda3\\lib\\site-packages (from requests) (3.4)\n",
      "Requirement already satisfied: urllib3<3,>=1.21.1 in c:\\users\\syuan\\anaconda3\\lib\\site-packages (from requests) (1.26.16)\n",
      "Requirement already satisfied: certifi>=2017.4.17 in c:\\users\\syuan\\anaconda3\\lib\\site-packages (from requests) (2023.7.22)\n",
      "Note: you may need to restart the kernel to use updated packages.\n"
     ]
    }
   ],
   "source": [
    "pip install requests"
   ]
  },
  {
   "cell_type": "code",
   "execution_count": 3,
   "id": "a3f7a50d",
   "metadata": {},
   "outputs": [
    {
     "name": "stdout",
     "output_type": "stream",
     "text": [
      "Requirement already satisfied: lxml in c:\\users\\syuan\\anaconda3\\lib\\site-packages (4.9.3)\n",
      "Note: you may need to restart the kernel to use updated packages.\n"
     ]
    }
   ],
   "source": [
    "pip install lxml"
   ]
  },
  {
   "cell_type": "code",
   "execution_count": 1,
   "id": "911728c8",
   "metadata": {},
   "outputs": [],
   "source": [
    "from bs4 import BeautifulSoup\n",
    "import requests\n",
    "import pandas as pd"
   ]
  },
  {
   "cell_type": "code",
   "execution_count": 5,
   "id": "e91fb79e",
   "metadata": {},
   "outputs": [
    {
     "name": "stdout",
     "output_type": "stream",
     "text": [
      "['movie/The_Breach-14229154', 'movie/Justice_League_Warworld-27687527', 'movie/Aval_Appadithaan-275205', 'movie/Kaazhcha-425162', 'movie/The_Inbetweeners-1716772', 'movie/Love_Object-328077', 'movie/May-December-January-22600514', 'movie/Kevin_Hart_Reality_Check-28227488', 'movie/Hama_no_asahi_no_usotsukidomo_to-16979594', 'movie/Arc-14663456', 'movie/Invisible_Waves-461970', 'movie/A_Night_to_Remember-241535', 'movie/JLA_Adventures_Trapped_in_Time-3468260', 'movie/Rollover-83006', 'movie/Douze_heures_dhorloge-52757', 'movie/Nipernaadi-239722', 'movie/Nadodikkattu-282778', 'movie/Pattanapravesam-292174', 'movie/Akka_Thangai-8908240', 'movie/Smokin_on_the_Moon-5872258', 'movie/The_Little_Vampire_3D-4729560', 'movie/National_Theatre_Live_Medea-4256612', 'movie/Blind-5316648', 'movie/Storytelling-250081', 'movie/Pookkal_Vidum_Thoodhu-8702688', 'movie/The_Play_of_God-199669', 'movie/Chemmeen-59028', 'movie/The_Scorpion_Monster-21808438', 'movie/Chakravyuham_The_Trap-27906902', 'movie/Bewafaa-363472']\n"
     ]
    }
   ],
   "source": [
    "####################################\n",
    "#Extract the links of multiple movie transcripts\n",
    "####################################\n",
    "\n",
    "##Get the HTML\n",
    "root='https://subslikescript.com'\n",
    "website=f'{root}/movies'\n",
    "result=requests.get(website)\n",
    "content=result.text\n",
    "soup=BeautifulSoup(content,'lxml')\n",
    "\n",
    "##Locate the box that contains a list of movies\n",
    "\n",
    "box=soup.find('article',class_='main-article')\n",
    "\n",
    "\n",
    "##Store each link in 'links' list\n",
    "links=[]\n",
    "for link in box.find_all('a',href=True):\n",
    "    links.append(link['href'])\n",
    "\n",
    "####################################\n",
    "#Extract the movie transcript\n",
    "####################################\n",
    "\n",
    "for link in links:\n",
    "    result=requests.get(f'{root}/{link}')\n",
    "    content=result.text\n",
    "    soup=BeautifulSoup(content,'lxml')\n",
    "    \n",
    "    box=soup.find('article',class_='main-article')\n",
    "    \n",
    "    title=box.find('h1').get_text()\n",
    "    title=''.join(title.split('/'))\n",
    "    transcript=box.find('div',class_='full-script').get_text(strip=True,separator=' ')\n",
    "    \n",
    "    with open(f'{title}.txt','w') as file:\n",
    "        file.write(transcript)\n",
    "        \n",
    "    \n",
    "        "
   ]
  },
  {
   "cell_type": "code",
   "execution_count": null,
   "id": "3c2ecc7b",
   "metadata": {},
   "outputs": [
    {
     "name": "stdout",
     "output_type": "stream",
     "text": [
      "------Link not working------\n",
      "movie/A_Babysitters_Guide_to_Monster_Hunting-4844150\n",
      "------Link not working------\n",
      "movie/A_Bag_of_Marbles-153414\n",
      "------Link not working------\n",
      "movie/A_Banana_At_This_Time_of_Night-9010228\n",
      "------Link not working------\n",
      "movie/A_Beautiful_Day_in_the_Neighborhood-3224458\n",
      "------Link not working------\n",
      "movie/A_Beautiful_Secret-316562\n",
      "------Link not working------\n",
      "movie/A_Bee_in_August-970946\n",
      "------Link not working------\n",
      "movie/A_Belfast_Story-2326204\n",
      "------Link not working------\n",
      "movie/A_Belle_for_Christmas-3256812\n",
      "------Link not working------\n",
      "movie/A_Big_Love_Story-1769383\n",
      "------Link not working------\n",
      "movie/A_Bigger_Splash-2056771\n",
      "------Link not working------\n",
      "movie/A_Blast-3813916\n",
      "------Link not working------\n",
      "movie/A_Borrowed_Life-109691\n",
      "------Link not working------\n",
      "movie/A_Boss_in_the_Living_Room-3296204\n",
      "------Link not working------\n",
      "movie/A_Boy_and_Sungreen-10402898\n",
      "------Link not working------\n",
      "movie/A_Boy_Called_Christmas-10187208\n",
      "------Link not working------\n",
      "movie/A_Boy_A_Girl_A_Dream-6905402\n",
      "------Link not working------\n",
      "movie/A_Breed_Apart-87001\n",
      "------Link not working------\n",
      "movie/A_Brides_Revenge-9287408\n",
      "------Link not working------\n",
      "movie/A_Brilliant_Monster-6534422\n",
      "------Link not working------\n",
      "movie/A_Brother-9369620\n",
      "------Link not working------\n",
      "movie/A_Bucket_of_Blood-112594\n"
     ]
    }
   ],
   "source": [
    "####################################\n",
    "#Extract the links of multiple movie transcripts from multile pages\n",
    "####################################\n",
    "\n",
    "##Get the HTML\n",
    "root='https://subslikescript.com'\n",
    "website=f'{root}/movies_letter-A'\n",
    "result=requests.get(website)\n",
    "content=result.text\n",
    "soup=BeautifulSoup(content,'lxml')\n",
    "\n",
    "##Locate the box that contains a list of movies\n",
    "pagination=soup.find('ul',class_='pagination')\n",
    "pages=pagination.find_all('li',class_='page-item')\n",
    "last_page=pages[-2].text\n",
    "\n",
    "for page in range(1,int(last_page)+1): #range(1,92+1)\n",
    "    root='https://subslikescript.com'\n",
    "    website=f'{root}/movies_letter-A?page={page}'\n",
    "    result=requests.get(website)\n",
    "    content=result.text\n",
    "    soup=BeautifulSoup(content,'lxml')\n",
    "\n",
    "    box=soup.find('article',class_='main-article')\n",
    "\n",
    "\n",
    "##Store each link in 'links' list\n",
    "    links=[]\n",
    "    for link in box.find_all('a',href=True):\n",
    "        links.append(link['href'])\n",
    "\n",
    "####################################\n",
    "#Extract the movie transcript\n",
    "####################################\n",
    "\n",
    "    for link in links:\n",
    "        try: \n",
    "            result=requests.get(f'{root}/{link}')\n",
    "            content=result.text\n",
    "            soup=BeautifulSoup(content,'lxml')\n",
    "    \n",
    "            box=soup.find('article',class_='main-article')\n",
    "    \n",
    "            title=box.find('h1').get_text()\n",
    "            transcript=box.find('div',class_='full-script').get_text(strip=True,separator=' ')\n",
    "        \n",
    "            with open(f'{title}.txt','w') as file:\n",
    "                file.write(transcript)\n",
    "        except:\n",
    "            print('------Link not working------')\n",
    "            print(link)\n",
    "        \n",
    "    \n",
    "        "
   ]
  },
  {
   "cell_type": "code",
   "execution_count": null,
   "id": "4ca83138",
   "metadata": {},
   "outputs": [],
   "source": []
  }
 ],
 "metadata": {
  "kernelspec": {
   "display_name": "Python 3 (ipykernel)",
   "language": "python",
   "name": "python3"
  },
  "language_info": {
   "codemirror_mode": {
    "name": "ipython",
    "version": 3
   },
   "file_extension": ".py",
   "mimetype": "text/x-python",
   "name": "python",
   "nbconvert_exporter": "python",
   "pygments_lexer": "ipython3",
   "version": "3.11.5"
  }
 },
 "nbformat": 4,
 "nbformat_minor": 5
}
